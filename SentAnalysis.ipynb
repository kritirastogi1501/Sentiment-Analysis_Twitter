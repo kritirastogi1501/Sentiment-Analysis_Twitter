{
 "cells": [
  {
   "cell_type": "markdown",
   "id": "34def01d",
   "metadata": {},
   "source": [
    "BIG DATA ANALYTICS ASSIGNMENT"
   ]
  },
  {
   "cell_type": "markdown",
   "id": "fcd56f2a",
   "metadata": {},
   "source": [
    "KRITI RASTOGI -- AIML B1 -- 20119051623"
   ]
  },
  {
   "cell_type": "markdown",
   "id": "5df3b83d",
   "metadata": {},
   "source": [
    "Q. Write a program to implement real time sentiment analysis using python. Also explore the steps used in this application."
   ]
  },
  {
   "cell_type": "code",
   "execution_count": 1,
   "id": "080eaa11",
   "metadata": {},
   "outputs": [],
   "source": [
    "import numpy as np \n",
    "import pandas as pd"
   ]
  },
  {
   "cell_type": "code",
   "execution_count": 2,
   "id": "074dbdac",
   "metadata": {},
   "outputs": [],
   "source": [
    "DATASET_COLUMNS=['target','ids','date','flag','user','text']\n",
    "DATASET_ENCODING = \"ISO-8859-1\""
   ]
  },
  {
   "cell_type": "code",
   "execution_count": null,
   "id": "25b0160f",
   "metadata": {},
   "outputs": [],
   "source": [
    "df = pd.read_csv"
   ]
  }
 ],
 "metadata": {
  "kernelspec": {
   "display_name": "base",
   "language": "python",
   "name": "python3"
  },
  "language_info": {
   "codemirror_mode": {
    "name": "ipython",
    "version": 3
   },
   "file_extension": ".py",
   "mimetype": "text/x-python",
   "name": "python",
   "nbconvert_exporter": "python",
   "pygments_lexer": "ipython3",
   "version": "3.12.7"
  }
 },
 "nbformat": 4,
 "nbformat_minor": 5
}
